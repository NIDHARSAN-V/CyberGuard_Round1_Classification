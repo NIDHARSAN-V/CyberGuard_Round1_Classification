{
 "cells": [
  {
   "cell_type": "code",
   "execution_count": null,
   "metadata": {},
   "outputs": [],
   "source": [
    "%pip install transformers torch torchtext scikit-learn pandas\n",
    "%pip install torch==2.0.1 torchtext==0.15.2\n",
    "!pip install tensorflow\n",
    "%pip install transformers torch scikit-learn\n",
    "!pip install datasets\n",
    "\n",
    "\n",
    "\n"
   ]
  },
  {
   "cell_type": "code",
   "execution_count": null,
   "metadata": {},
   "outputs": [],
   "source": [
    "import numpy as np\n",
    "from tensorflow.keras.models import Sequential\n",
    "from tensorflow.keras.layers import LSTM, Dense, Embedding, SpatialDropout1D\n",
    "from tensorflow.keras.preprocessing.text import Tokenizer\n",
    "from tensorflow.keras.preprocessing.sequence import pad_sequences\n",
    "from sklearn.model_selection import train_test_split\n",
    "\n",
    "\n",
    "sentences = [\n",
    "    \"I received a call from someone asking for my bank account details.\",\n",
    "    \"You've won a lottery! Send us your bank details to claim the prize.\",\n",
    "    \"Please update your account information to prevent deactivation.\",\n",
    "    \"Hey, just wanted to check in on our meeting next week.\",\n",
    "    \"I need help with my order; it didn't arrive on time.\",\n",
    "    \"Your account has been compromised; please send your password to fix it.\",\n",
    "\n",
    "]\n",
    "labels = [1, 1, 1, 0, 0, 1]\n",
    "\n",
    "\n",
    "tokenizer = Tokenizer(num_words=5000, oov_token='<OOV>')\n",
    "tokenizer.fit_on_texts(sentences)\n",
    "word_index = tokenizer.word_index\n",
    "sequences = tokenizer.texts_to_sequences(sentences)\n",
    "padded_sequences = pad_sequences(sequences, maxlen=20, padding='post', truncating='post')\n",
    "\n",
    "\n",
    "X_train, X_test, y_train, y_test = train_test_split(padded_sequences, labels, test_size=0.2, random_state=42)\n",
    "\n",
    "\n",
    "model = Sequential([\n",
    "    Embedding(input_dim=5000, output_dim=64, input_length=20),\n",
    "    SpatialDropout1D(0.2),\n",
    "    LSTM(64, dropout=0.2, recurrent_dropout=0.2),\n",
    "    Dense(1, activation='sigmoid')\n",
    "])\n",
    "\n",
    "\n",
    "model.compile(optimizer='adam', loss='binary_crossentropy', metrics=['accuracy'])\n",
    "\n",
    "model.fit(X_train, np.array(y_train), epochs=20, batch_size=1, validation_data=(X_test, np.array(y_test)))\n",
    "\n",
    "loss, accuracy = model.evaluate(X_test, np.array(y_test))\n",
    "print(f\"Test Accuracy: {accuracy:.2f}\")\n",
    "\n"
   ]
  },
  {
   "cell_type": "code",
   "execution_count": null,
   "metadata": {},
   "outputs": [],
   "source": [
    "new_sentence = [\"z\"]\n",
    "new_sequence = tokenizer.texts_to_sequences(new_sentence)\n",
    "new_padded = pad_sequences(new_sequence, maxlen=20, padding='post', truncating='post')\n",
    "prediction = model.predict(new_padded)\n",
    "print(\"Fraud probability:\", prediction[0][0])"
   ]
  }
 ],
 "metadata": {
  "language_info": {
   "name": "python"
  }
 },
 "nbformat": 4,
 "nbformat_minor": 2
}
